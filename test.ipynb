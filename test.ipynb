{
 "cells": [
  {
   "cell_type": "code",
   "execution_count": 2,
   "id": "be0161f6-38a0-4d18-a94c-85537ad58bc0",
   "metadata": {},
   "outputs": [
    {
     "data": {
      "text/plain": [
       "<Figure size 1500x1000 with 0 Axes>"
      ]
     },
     "metadata": {},
     "output_type": "display_data"
    }
   ],
   "source": [
    "import os\n",
    "import pandas as pd\n",
    "import datetime as dt\n",
    "import matplotlib.pyplot as plt\n",
    "\n",
    "plt.figure(figsize=(15, 10))\n",
    "plt.subplots_adjust(top=1.25, bottom=1.2)\n",
    "\n",
    "path = 'data/crypto'\n",
    "dir_list = os.listdir(path)\n",
    "\n",
    "ma_day = [10, 20, 50]\n",
    "\n",
    "assets = []\n",
    "\n",
    "for i, file_name in enumerate(dir_list, 1):\n",
    "    file_path = f'data/crypto/{file_name}'\n",
    "    if 'csv' not in file_path: continue\n",
    "    df = pd.read_csv(file_path)\n",
    "\n",
    "    start = int(dt.datetime(2024, 1, 1).timestamp() * 1000)\n",
    "    df = df[df['timestamp'] > start]\n",
    "\n",
    "    # column_name = f\"MA for {ma} days\"\n",
    "    # df[column_name] = df['close'].rolling(ma).mean()\n",
    "\n",
    "    assets.append(df)\n",
    "\n",
    "    # y = df['open']\n",
    "    # x = [dt.datetime.fromtimestamp(timestamp) for timestamp in (df['timestamp'] / 1000)]\n",
    "    \n",
    "    # plt.subplot(2, 2, i)\n",
    "    # plt.plot(x, y)\n",
    "\n",
    "    # plt.ylabel('Open price')\n",
    "    # plt.xlabel(None)\n",
    "    # plt.title(file_name.split('.')[0])\n",
    "\n",
    "for ma in ma_day:\n",
    "    for crypto_asset in assets:\n",
    "        column_name = f\"MA for {ma} days\"\n",
    "        crypto_asset[column_name] = crypto_asset['close'].rolling(ma).mean()\n",
    "\n",
    "# fig, axes = plt.subplots(nrows=2, ncols=2)\n",
    "# fig.set_figheight(10)\n",
    "# fig.set_figwidth(15)\n",
    "\n",
    "# assets[0][['close', 'MA for 10 days', 'MA for 20 days', 'MA for 50 days']].plot(ax=axes[0,0])\n",
    "# axes[0,0].set_title('APPLE')\n",
    "\n",
    "# assets[1][['close', 'MA for 10 days', 'MA for 20 days', 'MA for 50 days']].plot(ax=axes[0,1])\n",
    "# axes[0,1].set_title('GOOGLE')\n",
    "\n",
    "# assets[2][['close', 'MA for 10 days', 'MA for 20 days', 'MA for 50 days']].plot(ax=axes[1,0])\n",
    "# axes[1,0].set_title('MICROSOFT')\n",
    "\n",
    "# assets[2][['close', 'MA for 10 days', 'MA for 20 days', 'MA for 50 days']].plot(ax=axes[1,1])\n",
    "# axes[1,1].set_title('AMAZON')\n",
    "\n",
    "plt.tight_layout()\n"
   ]
  },
  {
   "cell_type": "code",
   "execution_count": null,
   "id": "1d3391ca-dbfa-43bb-9498-be7666ed74cc",
   "metadata": {},
   "outputs": [],
   "source": []
  }
 ],
 "metadata": {
  "kernelspec": {
   "display_name": "Python 3 (ipykernel)",
   "language": "python",
   "name": "python3"
  },
  "language_info": {
   "codemirror_mode": {
    "name": "ipython",
    "version": 3
   },
   "file_extension": ".py",
   "mimetype": "text/x-python",
   "name": "python",
   "nbconvert_exporter": "python",
   "pygments_lexer": "ipython3",
   "version": "3.11.7"
  }
 },
 "nbformat": 4,
 "nbformat_minor": 5
}
